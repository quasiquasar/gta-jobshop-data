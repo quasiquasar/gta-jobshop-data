{
 "cells": [
  {
   "cell_type": "code",
   "execution_count": null,
   "metadata": {},
   "outputs": [],
   "source": [
    "import os\n",
    "import pandas as pd\n",
    "import numpy as np\n",
    "%matplotlib inline\n",
    "from matplotlib import pylab as plt\n",
    "\n",
    "basefolder='data/onlineregression'\n",
    "algo = 'stabu'\n",
    "expid = 'tabu0'"
   ]
  },
  {
   "cell_type": "code",
   "execution_count": null,
   "metadata": {},
   "outputs": [],
   "source": [
    "# look at the set of problems\n",
    "problems = []\n",
    "for i in range(41,51):\n",
    "    problems.append(\"ta{}\".format(i))\n",
    "    \n",
    "print(\"will generate probability plots for \\n\",problems)"
   ]
  },
  {
   "cell_type": "code",
   "execution_count": null,
   "metadata": {},
   "outputs": [],
   "source": [
    "# collect all data in one data frame\n",
    "colnames = ['algo','expid','problem','runid','seed','time','epoch','muopt','accuracy'] \n",
    "dataset = pd.DataFrame([],columns=colnames)\n",
    "\n",
    "for problem in problems:\n",
    "    directory = \"{}/{}/{}/{}\".format(basefolder,algo,expid,problem)\n",
    "    for file in os.listdir(directory):        \n",
    "        data = pd.read_csv(\"{}/{}\".format(directory,file),header=None, \n",
    "                   names=colnames)\n",
    "        dataset = pd.concat( [dataset,data] )\n",
    " \n",
    "dataset.head()"
   ]
  },
  {
   "cell_type": "code",
   "execution_count": null,
   "metadata": {},
   "outputs": [],
   "source": [
    "ep = []\n",
    "minmu = []\n",
    "maxmu = []\n",
    "avgmu = []\n",
    "\n",
    "minacc = []\n",
    "maxacc = []\n",
    "avgacc = []\n",
    "\n",
    "epochstart = 0\n",
    "epochend = 201\n",
    "step = 1\n",
    "\n",
    "for epoch in range(epochstart,epochend,step):\n",
    "    minforproblem = []\n",
    "    maxforproblem = []\n",
    "    avgforproblem = []\n",
    "    \n",
    "    minaccforproblem = []\n",
    "    maxaccforproblem = []\n",
    "    avgaccforproblem = []\n",
    "    \n",
    "    for problem in problems:\n",
    "        mus = dataset[ (dataset.epoch==epoch) & (dataset.problem==\"{}.txt\".format(problem))][\"muopt\"]\n",
    "        acc = dataset[ (dataset.epoch==epoch) & (dataset.problem==\"{}.txt\".format(problem))][\"accuracy\"]\n",
    "        minforproblem.append(np.min(mus))\n",
    "        maxforproblem.append(np.max(mus))\n",
    "        avgforproblem.append(np.mean(mus))\n",
    "        \n",
    "        minaccforproblem.append(np.min(acc))\n",
    "        maxaccforproblem.append(np.max(acc))\n",
    "        avgaccforproblem.append(np.mean(acc))\n",
    "        \n",
    "    ep.append(epoch)    \n",
    "    minmu.append( np.mean(minforproblem))\n",
    "    maxmu.append( np.mean(maxforproblem))\n",
    "    avgmu.append( np.mean(avgforproblem))\n",
    "    \n",
    "    minacc.append(np.mean(minaccforproblem))\n",
    "    maxacc.append(np.mean(maxaccforproblem))\n",
    "    avgacc.append(np.mean(avgaccforproblem))"
   ]
  },
  {
   "cell_type": "code",
   "execution_count": null,
   "metadata": {},
   "outputs": [],
   "source": [
    "fig, axs = plt.subplots(2, 1, sharex=True)\n",
    "fig.subplots_adjust(hspace=0)\n",
    "\n",
    "axs[0].plot(ep,avgacc, ls='dashed' ,color=\"red\",  label=\"average accuracy\")\n",
    "axs[0].fill_between(ep, np.round(minacc,2), np.round(maxacc,2),alpha=0.3)\n",
    "axs[0].set_ylim(0.7, 1.1)\n",
    "axs[0].set_yticks(np.arange(0.75, 1.00, 0.05))\n",
    "axs[0].legend()\n",
    "axs[0].text(15,1.0, \"Taillard's Instances ta41-ta50\")\n",
    "axs[0].grid()\n",
    "axs[1].plot(ep,avgmu, ls='dashed' ,color=\"blue\", label=r'average optimal parameter $\\theta$')\n",
    "axs[1].fill_between(ep, minmu, maxmu,alpha=0.3)\n",
    "axs[1].set_ylim(0.0, 0.6)\n",
    "axs[1].set_yticks(np.arange(0.00, 0.60, 0.1))\n",
    "axs[1].legend()\n",
    "\n",
    "#axs[0].set_ylim(-1, 1)\n",
    "axs[1].grid()\n",
    "plt.xlabel(\"epoch\")\n",
    "plt.savefig('figs/accta41-ta50-{}-{}.png'.format(algo,expid), dpi=300)"
   ]
  },
  {
   "cell_type": "code",
   "execution_count": null,
   "metadata": {},
   "outputs": [],
   "source": []
  }
 ],
 "metadata": {
  "kernelspec": {
   "display_name": "Python 3",
   "language": "python",
   "name": "python3"
  },
  "language_info": {
   "codemirror_mode": {
    "name": "ipython",
    "version": 3
   },
   "file_extension": ".py",
   "mimetype": "text/x-python",
   "name": "python",
   "nbconvert_exporter": "python",
   "pygments_lexer": "ipython3",
   "version": "3.6.5"
  }
 },
 "nbformat": 4,
 "nbformat_minor": 2
}
